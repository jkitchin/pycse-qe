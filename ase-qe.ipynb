{
 "cells": [
  {
   "cell_type": "markdown",
   "id": "f1d499fe",
   "metadata": {},
   "source": [
    "Quantum Espresso in the cloud\n",
    "=============================\n",
    "\n",
    "See https://wiki.fysik.dtu.dk/ase/ase/calculators/espresso.html for details of the espresso calculator in ase."
   ]
  },
  {
   "cell_type": "markdown",
   "id": "8bd20d01",
   "metadata": {},
   "source": [
    "# Run a Quantum Espresso calculation\n",
    "\n",
    "This sets up a bulk NaCL in a rocksalt structure, and then optimizes the unit cell."
   ]
  },
  {
   "cell_type": "code",
   "execution_count": 2,
   "id": "718dd639-2d17-44c5-b4ea-27aaaf623795",
   "metadata": {},
   "outputs": [
    {
     "name": "stdout",
     "output_type": "stream",
     "text": [
      "       Step     Time          Energy          fmax\n",
      "LBFGS:    0 15:33:44    -1633.503045        0.429888\n",
      "LBFGS:    1 15:33:47    -1633.510598        0.410005\n",
      "LBFGS:    2 15:33:49    -1633.554514        0.219752\n",
      "LBFGS:    3 15:33:52    -1633.567736        0.054139\n",
      "LBFGS:    4 15:33:55    -1633.567957        0.004891\n"
     ]
    },
    {
     "data": {
      "text/plain": [
       "True"
      ]
     },
     "execution_count": 2,
     "metadata": {},
     "output_type": "execute_result"
    }
   ],
   "source": [
    "from ase.build import bulk\n",
    "from ase.calculators.espresso import Espresso, EspressoProfile\n",
    "from ase.filters import UnitCellFilter\n",
    "from ase.optimize import LBFGS\n",
    "\n",
    "pseudopotentials = {'Na': 'Na_ONCV_PBE-1.0.oncvpsp.upf',\n",
    "                    'Cl': 'Cl.pbe-n-rrkjus_psl.1.0.0.UPF'}\n",
    "\n",
    "profile = EspressoProfile(command='/usr/bin/pw.x', \n",
    "                          pseudo_dir='/usr/share/espresso/pseudo')\n",
    "\n",
    "rocksalt = bulk('NaCl', crystalstructure='rocksalt', a=6.0)\n",
    "calc = Espresso(profile=profile, pseudopotentials=pseudopotentials,\n",
    "                tstress=True, tprnfor=True, kpts=(3, 3, 3))\n",
    "rocksalt.calc = calc\n",
    "\n",
    "ucf = UnitCellFilter(rocksalt)\n",
    "opt = LBFGS(ucf)\n",
    "opt.run(fmax=0.005)"
   ]
  },
  {
   "cell_type": "markdown",
   "id": "5406d25d-e3fd-4ac6-beeb-12a618d81fc5",
   "metadata": {},
   "source": [
    "You can check that the forces and stress are all practically zero."
   ]
  },
  {
   "cell_type": "code",
   "execution_count": 5,
   "id": "161d6380-4603-4a4b-a0fc-3ce102aa5f11",
   "metadata": {},
   "outputs": [
    {
     "data": {
      "text/plain": [
       "array([[0., 0., 0.],\n",
       "       [0., 0., 0.]])"
      ]
     },
     "execution_count": 5,
     "metadata": {},
     "output_type": "execute_result"
    }
   ],
   "source": [
    "rocksalt.get_forces()"
   ]
  },
  {
   "cell_type": "code",
   "execution_count": 6,
   "id": "2a4f5c7f-4ec0-4c21-a007-416d935cfa39",
   "metadata": {},
   "outputs": [
    {
     "data": {
      "text/plain": [
       "array([ 0.00020016,  0.00020016,  0.00020016, -0.        , -0.        ,\n",
       "       -0.        ])"
      ]
     },
     "execution_count": 6,
     "metadata": {},
     "output_type": "execute_result"
    }
   ],
   "source": [
    "rocksalt.get_stress()"
   ]
  },
  {
   "cell_type": "code",
   "execution_count": 7,
   "id": "6a545774-c342-4b29-b743-53bd1697e9de",
   "metadata": {},
   "outputs": [
    {
     "name": "stdout",
     "output_type": "stream",
     "text": [
      "5.708024233087787\n"
     ]
    }
   ],
   "source": [
    "# cubic lattic constant\n",
    "print((8 * rocksalt.get_volume() / len(rocksalt))**(1.0 / 3.0))"
   ]
  },
  {
   "cell_type": "code",
   "execution_count": 8,
   "id": "a6e035b0-b105-4476-8aae-d5625dd106d4",
   "metadata": {},
   "outputs": [
    {
     "name": "stdout",
     "output_type": "stream",
     "text": [
      "-1633.5679570217433\n"
     ]
    }
   ],
   "source": [
    "print(rocksalt.get_potential_energy())"
   ]
  },
  {
   "cell_type": "markdown",
   "id": "8bfe5bdb-b0bc-404c-924b-4edc61d329de",
   "metadata": {},
   "source": [
    "# Visualize the crystal structure"
   ]
  },
  {
   "cell_type": "code",
   "execution_count": 11,
   "id": "32e64a44-a3b2-49fe-a2bc-52e22bcd4b84",
   "metadata": {},
   "outputs": [
    {
     "data": {
      "text/html": [
       "<html>\n",
       "    <head>\n",
       "        <title>ASE atomic visualization</title>\n",
       "        <link rel=\"stylesheet\" type=\"text/css\"             href=\"https://www.x3dom.org/release/x3dom.css\"></link>\n",
       "        <script type=\"text/javascript\"             src=\"https://www.x3dom.org/release/x3dom.js\"></script>\n",
       "    </head>\n",
       "    <body>\n",
       "        <X3D width=\"400px\"; height=\"300px\";>\n",
       "\n",
       "<!--Inserting Generated X3D Scene-->\n",
       "<scene>\n",
       "  <viewpoint position=\"0 0 5.708024233087788\">\n",
       "    <group/>\n",
       "  </viewpoint>\n",
       "  <transform translation=\"1.9679235582707038e-19 1.9679235582707038e-19 -4.440892098500626e-16\">\n",
       "    <group>\n",
       "      <group>\n",
       "        <transform translation=\"0 0 0\">\n",
       "          <shape>\n",
       "            <appearance>\n",
       "              <material diffuseColor=\"0 0 0\"/>\n",
       "            </appearance>\n",
       "            <lineset vertexCount=\"5\">\n",
       "              <coordinate point=\"0 0 0 -3.9358471165414075e-19 2.8540121165438936 2.854012116543894 2.8540121165438936 2.8540121165438936 5.708024233087788 2.8540121165438936 -3.9358471165414075e-19 2.854012116543894 0 0 0\"/>\n",
       "            </lineset>\n",
       "          </shape>\n",
       "        </transform>\n",
       "        <transform translation=\"2.8540121165438936 2.8540121165438936 8.881784197001252e-16\">\n",
       "          <shape>\n",
       "            <appearance>\n",
       "              <material diffuseColor=\"0 0 0\"/>\n",
       "            </appearance>\n",
       "            <lineset vertexCount=\"5\">\n",
       "              <coordinate point=\"0 0 0 -3.9358471165414075e-19 2.8540121165438936 2.854012116543894 2.8540121165438936 2.8540121165438936 5.708024233087788 2.8540121165438936 -3.9358471165414075e-19 2.854012116543894 0 0 0\"/>\n",
       "            </lineset>\n",
       "          </shape>\n",
       "        </transform>\n",
       "        <transform translation=\"0 0 0\">\n",
       "          <shape>\n",
       "            <appearance>\n",
       "              <material diffuseColor=\"0 0 0\"/>\n",
       "            </appearance>\n",
       "            <lineset vertexCount=\"5\">\n",
       "              <coordinate point=\"0 0 0 -3.9358471165414075e-19 2.8540121165438936 2.854012116543894 2.8540121165438936 5.708024233087787 2.854012116543895 2.8540121165438936 2.8540121165438936 8.881784197001252e-16 0 0 0\"/>\n",
       "            </lineset>\n",
       "          </shape>\n",
       "        </transform>\n",
       "        <transform translation=\"2.8540121165438936 -3.9358471165414075e-19 2.854012116543894\">\n",
       "          <shape>\n",
       "            <appearance>\n",
       "              <material diffuseColor=\"0 0 0\"/>\n",
       "            </appearance>\n",
       "            <lineset vertexCount=\"5\">\n",
       "              <coordinate point=\"0 0 0 -3.9358471165414075e-19 2.8540121165438936 2.854012116543894 2.8540121165438936 5.708024233087787 2.854012116543895 2.8540121165438936 2.8540121165438936 8.881784197001252e-16 0 0 0\"/>\n",
       "            </lineset>\n",
       "          </shape>\n",
       "        </transform>\n",
       "      </group>\n",
       "      <group>\n",
       "        <transform translation=\"0.0 0.0 0.0\">\n",
       "          <shape>\n",
       "            <appearance>\n",
       "              <material diffuseColor=\"0.671 0.361 0.949\"/>\n",
       "            </appearance>\n",
       "            <sphere radius=\"1.66\"/>\n",
       "          </shape>\n",
       "        </transform>\n",
       "        <transform translation=\"2.854012116543894 -1.9401382656968116e-21 -5.503489037153777e-18\">\n",
       "          <shape>\n",
       "            <appearance>\n",
       "              <material diffuseColor=\"0.122 0.941 0.122\"/>\n",
       "            </appearance>\n",
       "            <sphere radius=\"1.02\"/>\n",
       "          </shape>\n",
       "        </transform>\n",
       "      </group>\n",
       "    </group>\n",
       "  </transform>\n",
       "</scene>\n",
       "<!--End of Inserted Scene-->\n",
       "\n",
       "        </X3D>\n",
       "    </body>\n",
       "</html>\n",
       "\n"
      ],
      "text/plain": [
       "<IPython.core.display.HTML object>"
      ]
     },
     "execution_count": 11,
     "metadata": {},
     "output_type": "execute_result"
    }
   ],
   "source": [
    "from ase.visualize import view\n",
    "view(rocksalt, viewer='x3d')"
   ]
  }
 ],
 "metadata": {
  "kernelspec": {
   "display_name": "Python 3 (ipykernel)",
   "language": "python",
   "name": "python3"
  },
  "language_info": {
   "codemirror_mode": {
    "name": "ipython",
    "version": 3
   },
   "file_extension": ".py",
   "mimetype": "text/x-python",
   "name": "python",
   "nbconvert_exporter": "python",
   "pygments_lexer": "ipython3",
   "version": "3.11.6"
  },
  "vscode": {
   "interpreter": {
    "hash": "d4d1e4263499bec80672ea0156c357c1ee493ec2b1c70f0acce89fc37c4a6abe"
   }
  }
 },
 "nbformat": 4,
 "nbformat_minor": 5
}
